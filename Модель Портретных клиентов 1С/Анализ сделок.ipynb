{
 "cells": [
  {
   "cell_type": "code",
   "execution_count": 1,
   "metadata": {},
   "outputs": [],
   "source": [
    "import pandas as pd\n",
    "import matplotlib.pyplot as plt\n",
    "import seaborn as sns\n",
    "import numpy as np"
   ]
  },
  {
   "cell_type": "code",
   "execution_count": 2,
   "metadata": {},
   "outputs": [],
   "source": [
    "data_true=pd.read_excel(r'Сделки.xlsx')"
   ]
  },
  {
   "cell_type": "code",
   "execution_count": 3,
   "metadata": {},
   "outputs": [
    {
     "name": "stdout",
     "output_type": "stream",
     "text": [
      "<class 'pandas.core.frame.DataFrame'>\n",
      "RangeIndex: 3123 entries, 0 to 3122\n",
      "Data columns (total 11 columns):\n",
      " #   Column                      Non-Null Count  Dtype  \n",
      "---  ------                      --------------  -----  \n",
      " 0   КодТО                       3123 non-null   int64  \n",
      " 1   Контрагент                  3123 non-null   object \n",
      " 2   ВидДеятельности             3123 non-null   object \n",
      " 3   Выручка \n",
      "Компании, руб      3123 non-null   int64  \n",
      " 4   2021, руб                   2653 non-null   float64\n",
      " 5   2022, руб                   2776 non-null   float64\n",
      " 6   Вид купленной номенклатуры  2627 non-null   object \n",
      " 7   СистемаНалогообложения      1767 non-null   object \n",
      " 8   Адрес                       2998 non-null   object \n",
      " 9   РегионОбслуживания          3123 non-null   object \n",
      " 10  Статус                      3123 non-null   object \n",
      "dtypes: float64(2), int64(2), object(7)\n",
      "memory usage: 268.5+ KB\n"
     ]
    }
   ],
   "source": [
    "data_true.info()"
   ]
  },
  {
   "cell_type": "code",
   "execution_count": 4,
   "metadata": {},
   "outputs": [],
   "source": [
    "data_true = data_true[~data_true['СистемаНалогообложения'].isnull()]"
   ]
  },
  {
   "cell_type": "markdown",
   "metadata": {},
   "source": [
    "# Рассмотрим только те данные, где есть полная информация\n",
    "- Система налогообложения;\n",
    "- Выручка от продаж;\n",
    "- Статус;\n",
    "- Регион обслуживания;\n",
    "\n",
    "Таких сделок всего 1767"
   ]
  },
  {
   "cell_type": "code",
   "execution_count": 5,
   "metadata": {},
   "outputs": [
    {
     "data": {
      "text/html": [
       "<div>\n",
       "<style scoped>\n",
       "    .dataframe tbody tr th:only-of-type {\n",
       "        vertical-align: middle;\n",
       "    }\n",
       "\n",
       "    .dataframe tbody tr th {\n",
       "        vertical-align: top;\n",
       "    }\n",
       "\n",
       "    .dataframe thead th {\n",
       "        text-align: right;\n",
       "    }\n",
       "</style>\n",
       "<table border=\"1\" class=\"dataframe\">\n",
       "  <thead>\n",
       "    <tr style=\"text-align: right;\">\n",
       "      <th></th>\n",
       "      <th>СистемаНалогообложения</th>\n",
       "      <th>Количество сделок</th>\n",
       "    </tr>\n",
       "  </thead>\n",
       "  <tbody>\n",
       "    <tr>\n",
       "      <th>4</th>\n",
       "      <td>ОСНО</td>\n",
       "      <td>943</td>\n",
       "    </tr>\n",
       "    <tr>\n",
       "      <th>8</th>\n",
       "      <td>УСНО 6%</td>\n",
       "      <td>410</td>\n",
       "    </tr>\n",
       "    <tr>\n",
       "      <th>7</th>\n",
       "      <td>УСНО 15%</td>\n",
       "      <td>212</td>\n",
       "    </tr>\n",
       "    <tr>\n",
       "      <th>5</th>\n",
       "      <td>ОСНО,УСНО</td>\n",
       "      <td>156</td>\n",
       "    </tr>\n",
       "    <tr>\n",
       "      <th>3</th>\n",
       "      <td>ЕСХН</td>\n",
       "      <td>17</td>\n",
       "    </tr>\n",
       "    <tr>\n",
       "      <th>0</th>\n",
       "      <td>Аутсорсинг</td>\n",
       "      <td>12</td>\n",
       "    </tr>\n",
       "    <tr>\n",
       "      <th>2</th>\n",
       "      <td>ЕНВД</td>\n",
       "      <td>10</td>\n",
       "    </tr>\n",
       "    <tr>\n",
       "      <th>1</th>\n",
       "      <td>Бюджет</td>\n",
       "      <td>6</td>\n",
       "    </tr>\n",
       "    <tr>\n",
       "      <th>6</th>\n",
       "      <td>Патент</td>\n",
       "      <td>1</td>\n",
       "    </tr>\n",
       "  </tbody>\n",
       "</table>\n",
       "</div>"
      ],
      "text/plain": [
       "  СистемаНалогообложения  Количество сделок\n",
       "4                   ОСНО                943\n",
       "8                УСНО 6%                410\n",
       "7               УСНО 15%                212\n",
       "5              ОСНО,УСНО                156\n",
       "3                   ЕСХН                 17\n",
       "0             Аутсорсинг                 12\n",
       "2                   ЕНВД                 10\n",
       "1                 Бюджет                  6\n",
       "6                 Патент                  1"
      ]
     },
     "execution_count": 5,
     "metadata": {},
     "output_type": "execute_result"
    }
   ],
   "source": [
    "data_n_cnt=data_true.groupby('СистемаНалогообложения',as_index=False) \\\n",
    ".aggregate({'КодТО':\"count\"}) \\\n",
    ".rename(columns={\"КодТО\":\"Количество сделок\"}) \\\n",
    ".sort_values(by='Количество сделок', ascending=False)\n",
    "data_n_cnt"
   ]
  },
  {
   "cell_type": "code",
   "execution_count": 6,
   "metadata": {},
   "outputs": [
    {
     "data": {
      "image/png": "[encoded data removed]",
      "text/plain": [
       "<Figure size 720x720 with 1 Axes>"
      ]
     },
     "metadata": {},
     "output_type": "display_data"
    }
   ],
   "source": [
    "# Значения для диаграммы (пример)\n",
    "values = data_n_cnt['СистемаНалогообложения']\n",
    "\n",
    "# Цвета секторов (можно настроить под ваши нужды)\n",
    "colors = ['tab:red', 'tab:orange', 'tab:blue', 'tab:green', 'tab:blue', 'tab:purple', 'tab:brown', 'tab:pink', 'tab:gray']\n",
    "\n",
    "# Создание круговой диаграммы\n",
    "fig, ax = plt.subplots(figsize=(10, 10))  # Установка размеров фигуры\n",
    "\n",
    "ax.pie(data_n_cnt['Количество сделок'], labels=values, colors=colors, autopct='%1.1f%%')\n",
    "\n",
    "legend = ax.legend(labels=values, title=\"        Система \\n Налогообложения\", \n",
    "                   loc=\"center right\", bbox_to_anchor=(1, 0, 0.5, 1))\n",
    "\n",
    "legend.get_frame().set_edgecolor('black')  # Цвет рамки легенды\n",
    "legend.get_frame().set_linewidth(2)  # Толщина линии рамки легенды\n",
    "legend.get_frame().set_facecolor('Blue')  # Цвет фона легенды\n",
    "legend.set_bbox_to_anchor((1.6, 0.5))  # Положение легенды\n",
    "\n",
    "legend.get_title().set_fontsize(25)  # Размер заголовка легенды\n",
    "for text in legend.get_texts():\n",
    "    text.set_fontsize(22)  # Размер текста в легенде\n",
    "\n",
    "plt.title(\"Процентное соотношение сделок \\n в зависимости от системы налообложения\", fontsize=15)\n",
    "\n",
    "plt.show()"
   ]
  },
  {
   "cell_type": "code",
   "execution_count": 7,
   "metadata": {},
   "outputs": [
    {
     "data": {
      "text/html": [
       "<div>\n",
       "<style scoped>\n",
       "    .dataframe tbody tr th:only-of-type {\n",
       "        vertical-align: middle;\n",
       "    }\n",
       "\n",
       "    .dataframe tbody tr th {\n",
       "        vertical-align: top;\n",
       "    }\n",
       "\n",
       "    .dataframe thead th {\n",
       "        text-align: right;\n",
       "    }\n",
       "</style>\n",
       "<table border=\"1\" class=\"dataframe\">\n",
       "  <thead>\n",
       "    <tr style=\"text-align: right;\">\n",
       "      <th></th>\n",
       "      <th>Статус</th>\n",
       "      <th>Количество сделок</th>\n",
       "    </tr>\n",
       "  </thead>\n",
       "  <tbody>\n",
       "    <tr>\n",
       "      <th>0</th>\n",
       "      <td>Действующее</td>\n",
       "      <td>1739</td>\n",
       "    </tr>\n",
       "    <tr>\n",
       "      <th>1</th>\n",
       "      <td>Недействующие</td>\n",
       "      <td>27</td>\n",
       "    </tr>\n",
       "    <tr>\n",
       "      <th>2</th>\n",
       "      <td>Нет информации</td>\n",
       "      <td>1</td>\n",
       "    </tr>\n",
       "  </tbody>\n",
       "</table>\n",
       "</div>"
      ],
      "text/plain": [
       "           Статус  Количество сделок\n",
       "0     Действующее               1739\n",
       "1   Недействующие                 27\n",
       "2  Нет информации                  1"
      ]
     },
     "execution_count": 7,
     "metadata": {},
     "output_type": "execute_result"
    }
   ],
   "source": [
    "data_s_cnt=data_true.groupby('Статус',as_index=False) \\\n",
    ".aggregate({'КодТО':\"count\"}) \\\n",
    ".rename(columns={\"КодТО\":\"Количество сделок\"}) \\\n",
    ".sort_values(by='Количество сделок', ascending=False)\n",
    "data_s_cnt"
   ]
  },
  {
   "cell_type": "code",
   "execution_count": 8,
   "metadata": {},
   "outputs": [
    {
     "data": {
      "image/png": "[encoded data removed]",
      "text/plain": [
       "<Figure size 720x504 with 1 Axes>"
      ]
     },
     "metadata": {
      "needs_background": "light"
     },
     "output_type": "display_data"
    }
   ],
   "source": [
    "plt.figure(figsize=[10, 7])\n",
    "\n",
    "plt.barh(data_s_cnt['Статус'], data_s_cnt['Количество сделок'], edgecolor='blueviolet',\n",
    "        color=['g', 'b', 'r'], linewidth=2)\n",
    "\n",
    "plt.title('Сделки в зависимости от статуса', fontsize=15)\n",
    "plt.xlabel('Статус', fontsize=15)\n",
    "plt.ylabel('Количество', fontsize=15)\n",
    "# plt.xticks(rotation=90)\n",
    "plt.show()"
   ]
  },
  {
   "cell_type": "code",
   "execution_count": 9,
   "metadata": {},
   "outputs": [
    {
     "name": "stdout",
     "output_type": "stream",
     "text": [
      "Выручка клиентов из официальных источников\n",
      "\n",
      "70611000.0 Медиана по выручке\n",
      "525759048.67 Среднее значение по выручке\n",
      "205829787000 Максимальное значение по выручке\n",
      "24000 Минимальное значение по выручке\n"
     ]
    }
   ],
   "source": [
    "print('Выручка клиентов из официальных источников')\n",
    "print()\n",
    "print(data_true['Выручка \\nКомпании, руб'].median(),'Медиана по выручке')\n",
    "print(round(data_true['Выручка \\nКомпании, руб'].mean(),2),'Среднее значение по выручке')\n",
    "print(data_true['Выручка \\nКомпании, руб'].max(),'Максимальное значение по выручке')\n",
    "print(data_true['Выручка \\nКомпании, руб'].min(),'Минимальное значение по выручке')"
   ]
  },
  {
   "cell_type": "markdown",
   "metadata": {},
   "source": [
    "- Медиана и среднее очень сильно отличаются; \n",
    "- Медиана меньше в 7 раз, распределение не нормальное;\n",
    "- Тяжело сделать анализ по выручке."
   ]
  },
  {
   "cell_type": "code",
   "execution_count": 10,
   "metadata": {},
   "outputs": [],
   "source": [
    "quantile_25 = data_true['Выручка \\nКомпании, руб'].quantile(0.25)\n",
    "quantile_15 = data_true['Выручка \\nКомпании, руб'].quantile(0.15)\n",
    "quantile_20 = data_true['Выручка \\nКомпании, руб'].quantile(0.20)\n",
    "median=data_true['Выручка \\nКомпании, руб'].median()\n",
    "quantile_75 = data_true['Выручка \\nКомпании, руб'].quantile(0.75)"
   ]
  },
  {
   "cell_type": "code",
   "execution_count": 11,
   "metadata": {},
   "outputs": [
    {
     "name": "stdout",
     "output_type": "stream",
     "text": [
      "У 15% клитентов, у которых была сделка, \n",
      "выручка меньше 19159899.999999996\n",
      "а у 85% больше 19159899.999999996\n"
     ]
    }
   ],
   "source": [
    "print(f'У 15% клитентов, у которых была сделка, \\nвыручка меньше {quantile_15}\\nа у 85% больше {quantile_15}')"
   ]
  },
  {
   "cell_type": "code",
   "execution_count": 12,
   "metadata": {},
   "outputs": [
    {
     "name": "stdout",
     "output_type": "stream",
     "text": [
      "У 20% клитентов, у которых была сделка, \n",
      "выручка меньше 24952600.000000007\n",
      "а у 80% больше 24952600.000000007\n"
     ]
    }
   ],
   "source": [
    "print(f'У 20% клитентов, у которых была сделка, \\nвыручка меньше {quantile_20}\\nа у 80% больше {quantile_20}')"
   ]
  },
  {
   "cell_type": "code",
   "execution_count": 14,
   "metadata": {},
   "outputs": [
    {
     "name": "stdout",
     "output_type": "stream",
     "text": [
      "У 25% клитентов, у которых была сделка, \n",
      "выручка меньше 29464000.0\n",
      "а у 75% больше 29464000.0\n"
     ]
    }
   ],
   "source": [
    "print(f'У 25% клитентов, у которых была сделка, \\nвыручка меньше {quantile_25}\\nа у 75% больше {quantile_25}')"
   ]
  },
  {
   "cell_type": "code",
   "execution_count": 15,
   "metadata": {},
   "outputs": [
    {
     "name": "stdout",
     "output_type": "stream",
     "text": [
      "У 50% клитентов, у которых была сделка, \n",
      "выручка меньше 70611000.0\n",
      "а у 50% больше 70611000.0\n"
     ]
    }
   ],
   "source": [
    "print(f'У 50% клитентов, у которых была сделка, \\nвыручка меньше {median}\\nа у 50% больше {median}')"
   ]
  },
  {
   "cell_type": "code",
   "execution_count": 16,
   "metadata": {},
   "outputs": [
    {
     "name": "stdout",
     "output_type": "stream",
     "text": [
      "У 75% клитентов, у которых была сделка, \n",
      "выручка меньше 188051000.0\n",
      "а у 25% больше 188051000.0\n"
     ]
    }
   ],
   "source": [
    "print(f'У 75% клитентов, у которых была сделка, \\nвыручка меньше {quantile_75}\\nа у 25% больше {quantile_75}')"
   ]
  },
  {
   "cell_type": "markdown",
   "metadata": {},
   "source": [
    "# Вывод\n",
    "- Если у клиента Системаналогооблажения в порядке приоритета:\n",
    "-  a) ОСНО;\n",
    "-  b) УСНО;\n",
    "-  c) УСНО;\n",
    "-  d) ОСНО,УСНО;\n",
    "- Регион Обслуживания Москва/МО;\n",
    "- Статус является действующим;\n",
    "- И Выручка больше 20 млн рублей\n",
    "\n",
    "Такой клиент является Портретным"
   ]
  },
  {
   "cell_type": "code",
   "execution_count": null,
   "metadata": {},
   "outputs": [],
   "source": []
  },
  {
   "cell_type": "code",
   "execution_count": null,
   "metadata": {},
   "outputs": [],
   "source": []
  }
 ],
 "metadata": {
  "kernelspec": {
   "display_name": "Python 3",
   "language": "python",
   "name": "python3"
  },
  "language_info": {
   "codemirror_mode": {
    "name": "ipython",
    "version": 3
   },
   "file_extension": ".py",
   "mimetype": "text/x-python",
   "name": "python",
   "nbconvert_exporter": "python",
   "pygments_lexer": "ipython3",
   "version": "3.8.3"
  }
 },
 "nbformat": 4,
 "nbformat_minor": 4
}
