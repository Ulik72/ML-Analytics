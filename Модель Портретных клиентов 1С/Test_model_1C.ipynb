{
 "cells": [
  {
   "cell_type": "code",
   "execution_count": 1,
   "id": "62c91212",
   "metadata": {},
   "outputs": [],
   "source": [
    "import pandas as pd\n",
    "import matplotlib.pyplot as plt\n",
    "import seaborn as sns\n",
    "import numpy as np"
   ]
  },
  {
   "cell_type": "code",
   "execution_count": 2,
   "id": "bbfe5f8b",
   "metadata": {},
   "outputs": [],
   "source": [
    "data_false=pd.read_excel(r'C:\\Users\\kerie\\Scripts\\Машинное обучение\\model\\Отказы.xlsx')\n",
    "data_true=pd.read_excel(r'C:\\Users\\kerie\\Scripts\\Машинное обучение\\model\\Сделки.xlsx')"
   ]
  },
  {
   "cell_type": "code",
   "execution_count": 3,
   "id": "50074ee4",
   "metadata": {},
   "outputs": [],
   "source": [
    "data_false=data_false.rename(columns={\"Статус ТЛМ задания\":\"Статус_ТЛМ\"})\n",
    "data_false=data_false.query('ВыручкаОтПродаж >= 0 and Статус_ТЛМ == \"5. Отказ\"')"
   ]
  },
  {
   "cell_type": "code",
   "execution_count": 4,
   "id": "56f8f6b4",
   "metadata": {},
   "outputs": [],
   "source": [
    "data_true = data_true[~data_true['СистемаНалогообложения'].isnull()]"
   ]
  },
  {
   "cell_type": "code",
   "execution_count": 5,
   "id": "1e30f1c8",
   "metadata": {},
   "outputs": [
    {
     "name": "stdout",
     "output_type": "stream",
     "text": [
      "<class 'pandas.core.frame.DataFrame'>\n",
      "Int64Index: 31641 entries, 0 to 46214\n",
      "Data columns (total 21 columns):\n",
      " #   Column                  Non-Null Count  Dtype         \n",
      "---  ------                  --------------  -----         \n",
      " 0   Контрагент              31641 non-null  object        \n",
      " 1   Код                     31641 non-null  int64         \n",
      " 2   ИНН                     31641 non-null  int64         \n",
      " 3   Наименование            31641 non-null  object        \n",
      " 4   ВидДеятельности         31641 non-null  object        \n",
      " 5   СистемаНалогообложения  31641 non-null  object        \n",
      " 6   ВыручкаОтПродаж         31641 non-null  int64         \n",
      " 7   КодОКВЭД                4980 non-null   object        \n",
      " 8   Адрес                   19021 non-null  object        \n",
      " 9   РегионОбслуживания      31641 non-null  object        \n",
      " 10  Статус                  31641 non-null  object        \n",
      " 11  НаправлениеБизнеса      31641 non-null  object        \n",
      " 12  ДатаСозданияТЛМ         31641 non-null  datetime64[ns]\n",
      " 13  НомерТЛМ                31641 non-null  int64         \n",
      " 14  ДатаРезультатаТЛМ       31641 non-null  datetime64[ns]\n",
      " 15  Подразделение           31639 non-null  object        \n",
      " 16  РезультатТЛМ            31641 non-null  object        \n",
      " 17  Статус_ТЛМ              31641 non-null  object        \n",
      " 18  Cnt                     31641 non-null  int64         \n",
      " 19  ИНН_99                  31641 non-null  object        \n",
      " 20  КодОКВЭД_69             31641 non-null  object        \n",
      "dtypes: datetime64[ns](2), int64(5), object(14)\n",
      "memory usage: 5.3+ MB\n"
     ]
    }
   ],
   "source": [
    "data_false.info()"
   ]
  },
  {
   "cell_type": "markdown",
   "id": "433bbdee",
   "metadata": {},
   "source": [
    "- 31641 ТЛМ заданий с результатом ОТКАЗ, по нарпавлению бизнеса \"2Б.Что делать 1С\";\n",
    "- Данные без пустых значений в столбцах СистемаНалогообложения, ВыручкаОтПродаж."
   ]
  },
  {
   "cell_type": "code",
   "execution_count": 6,
   "id": "f5e4fc86",
   "metadata": {},
   "outputs": [
    {
     "name": "stdout",
     "output_type": "stream",
     "text": [
      "<class 'pandas.core.frame.DataFrame'>\n",
      "Int64Index: 1767 entries, 0 to 3122\n",
      "Data columns (total 11 columns):\n",
      " #   Column                      Non-Null Count  Dtype  \n",
      "---  ------                      --------------  -----  \n",
      " 0   КодТО                       1767 non-null   int64  \n",
      " 1   Контрагент                  1767 non-null   object \n",
      " 2   ВидДеятельности             1767 non-null   object \n",
      " 3   Выручка \n",
      "Компании, руб      1767 non-null   int64  \n",
      " 4   2021, руб                   1500 non-null   float64\n",
      " 5   2022, руб                   1573 non-null   float64\n",
      " 6   Вид купленной номенклатуры  1523 non-null   object \n",
      " 7   СистемаНалогообложения      1767 non-null   object \n",
      " 8   Адрес                       1733 non-null   object \n",
      " 9   РегионОбслуживания          1767 non-null   object \n",
      " 10  Статус                      1767 non-null   object \n",
      "dtypes: float64(2), int64(2), object(7)\n",
      "memory usage: 165.7+ KB\n"
     ]
    }
   ],
   "source": [
    "data_true.info()"
   ]
  },
  {
   "cell_type": "markdown",
   "id": "dad7b591",
   "metadata": {},
   "source": [
    "- 1767 ТЛМ заданий, по которым прошла сделка, по нарпавлению бизнеса \"2Б.Что делать 1С\";\n",
    "- Данные без пустых значений в столбцах СистемаНалогообложения, ВыручкаОтПродаж."
   ]
  },
  {
   "cell_type": "markdown",
   "id": "8db30b42",
   "metadata": {},
   "source": [
    "Для обчения моделей будем использовать следующие параметры:\n",
    "- СистемаНалогообложения;\n",
    "- ВыручкаОтПродаж;\n",
    "- РегионОбслуживания.\n",
    "- Статус"
   ]
  },
  {
   "cell_type": "markdown",
   "id": "0bf6e137",
   "metadata": {},
   "source": [
    "# Кластеризируем данные со статусом ТЛМ задания \"ОТКАЗ\", для создания групп"
   ]
  },
  {
   "cell_type": "markdown",
   "id": "64f7c38e",
   "metadata": {},
   "source": [
    "Для кластеризации будем использовать метод, DBSCAN.\n",
    "\n",
    "Для информации: \n",
    "\n",
    "В данном примере мы используем метод DBSCAN для кластеризации исходного датасета. Параметр `eps` задает максимальное расстояние между соседними точками, чтобы они считались одним кластером. Параметр `min_samples` определяет минимальное количество соседних точек, необходимое для формирования кластера.\n",
    "\n",
    "Обратите внимание, что DBSCAN может определить количество кластеров автоматически, исходя из структуры данных."
   ]
  },
  {
   "cell_type": "code",
   "execution_count": 7,
   "id": "7ab763ea",
   "metadata": {},
   "outputs": [
    {
     "data": {
      "text/html": [
       "<div>\n",
       "<style scoped>\n",
       "    .dataframe tbody tr th:only-of-type {\n",
       "        vertical-align: middle;\n",
       "    }\n",
       "\n",
       "    .dataframe tbody tr th {\n",
       "        vertical-align: top;\n",
       "    }\n",
       "\n",
       "    .dataframe thead th {\n",
       "        text-align: right;\n",
       "    }\n",
       "</style>\n",
       "<table border=\"1\" class=\"dataframe\">\n",
       "  <thead>\n",
       "    <tr style=\"text-align: right;\">\n",
       "      <th></th>\n",
       "      <th>СистемаНалогообложения</th>\n",
       "      <th>ВыручкаОтПродаж</th>\n",
       "      <th>РегионОбслуживания</th>\n",
       "      <th>Статус</th>\n",
       "    </tr>\n",
       "  </thead>\n",
       "  <tbody>\n",
       "    <tr>\n",
       "      <th>0</th>\n",
       "      <td>ОСНО</td>\n",
       "      <td>4147256000</td>\n",
       "      <td>Москва\\МО</td>\n",
       "      <td>Действующее</td>\n",
       "    </tr>\n",
       "    <tr>\n",
       "      <th>2</th>\n",
       "      <td>УСНО 15%</td>\n",
       "      <td>85053000</td>\n",
       "      <td>Москва\\МО</td>\n",
       "      <td>Действующее</td>\n",
       "    </tr>\n",
       "    <tr>\n",
       "      <th>3</th>\n",
       "      <td>ОСНО</td>\n",
       "      <td>203295000</td>\n",
       "      <td>Москва\\МО</td>\n",
       "      <td>Действующее</td>\n",
       "    </tr>\n",
       "    <tr>\n",
       "      <th>5</th>\n",
       "      <td>ОСНО</td>\n",
       "      <td>26793000</td>\n",
       "      <td>Москва\\МО</td>\n",
       "      <td>Действующее</td>\n",
       "    </tr>\n",
       "    <tr>\n",
       "      <th>8</th>\n",
       "      <td>ОСНО</td>\n",
       "      <td>75500000</td>\n",
       "      <td>Москва\\МО</td>\n",
       "      <td>Действующее</td>\n",
       "    </tr>\n",
       "  </tbody>\n",
       "</table>\n",
       "</div>"
      ],
      "text/plain": [
       "  СистемаНалогообложения  ВыручкаОтПродаж РегионОбслуживания       Статус\n",
       "0                   ОСНО       4147256000          Москва\\МО  Действующее\n",
       "2               УСНО 15%         85053000          Москва\\МО  Действующее\n",
       "3                   ОСНО        203295000          Москва\\МО  Действующее\n",
       "5                   ОСНО         26793000          Москва\\МО  Действующее\n",
       "8                   ОСНО         75500000          Москва\\МО  Действующее"
      ]
     },
     "execution_count": 7,
     "metadata": {},
     "output_type": "execute_result"
    }
   ],
   "source": [
    "data_false=data_false[['СистемаНалогообложения','ВыручкаОтПродаж','РегионОбслуживания','Статус']]\n",
    "data_false.head()"
   ]
  },
  {
   "cell_type": "code",
   "execution_count": 8,
   "id": "caab6752",
   "metadata": {},
   "outputs": [
    {
     "data": {
      "text/html": [
       "<div>\n",
       "<style scoped>\n",
       "    .dataframe tbody tr th:only-of-type {\n",
       "        vertical-align: middle;\n",
       "    }\n",
       "\n",
       "    .dataframe tbody tr th {\n",
       "        vertical-align: top;\n",
       "    }\n",
       "\n",
       "    .dataframe thead th {\n",
       "        text-align: right;\n",
       "    }\n",
       "</style>\n",
       "<table border=\"1\" class=\"dataframe\">\n",
       "  <thead>\n",
       "    <tr style=\"text-align: right;\">\n",
       "      <th></th>\n",
       "      <th>СистемаНалогообложения</th>\n",
       "      <th>ВыручкаОтПродаж</th>\n",
       "      <th>РегионОбслуживания</th>\n",
       "      <th>Статус</th>\n",
       "      <th>СистемаНалогообложения_int</th>\n",
       "      <th>РегионОбслуживания_int</th>\n",
       "      <th>Статус_int</th>\n",
       "    </tr>\n",
       "  </thead>\n",
       "  <tbody>\n",
       "    <tr>\n",
       "      <th>0</th>\n",
       "      <td>ОСНО</td>\n",
       "      <td>4147256000</td>\n",
       "      <td>Москва\\МО</td>\n",
       "      <td>Действующее</td>\n",
       "      <td>4</td>\n",
       "      <td>1</td>\n",
       "      <td>0</td>\n",
       "    </tr>\n",
       "    <tr>\n",
       "      <th>2</th>\n",
       "      <td>УСНО 15%</td>\n",
       "      <td>85053000</td>\n",
       "      <td>Москва\\МО</td>\n",
       "      <td>Действующее</td>\n",
       "      <td>7</td>\n",
       "      <td>1</td>\n",
       "      <td>0</td>\n",
       "    </tr>\n",
       "    <tr>\n",
       "      <th>3</th>\n",
       "      <td>ОСНО</td>\n",
       "      <td>203295000</td>\n",
       "      <td>Москва\\МО</td>\n",
       "      <td>Действующее</td>\n",
       "      <td>4</td>\n",
       "      <td>1</td>\n",
       "      <td>0</td>\n",
       "    </tr>\n",
       "    <tr>\n",
       "      <th>5</th>\n",
       "      <td>ОСНО</td>\n",
       "      <td>26793000</td>\n",
       "      <td>Москва\\МО</td>\n",
       "      <td>Действующее</td>\n",
       "      <td>4</td>\n",
       "      <td>1</td>\n",
       "      <td>0</td>\n",
       "    </tr>\n",
       "    <tr>\n",
       "      <th>8</th>\n",
       "      <td>ОСНО</td>\n",
       "      <td>75500000</td>\n",
       "      <td>Москва\\МО</td>\n",
       "      <td>Действующее</td>\n",
       "      <td>4</td>\n",
       "      <td>1</td>\n",
       "      <td>0</td>\n",
       "    </tr>\n",
       "  </tbody>\n",
       "</table>\n",
       "</div>"
      ],
      "text/plain": [
       "  СистемаНалогообложения  ВыручкаОтПродаж РегионОбслуживания       Статус  \\\n",
       "0                   ОСНО       4147256000          Москва\\МО  Действующее   \n",
       "2               УСНО 15%         85053000          Москва\\МО  Действующее   \n",
       "3                   ОСНО        203295000          Москва\\МО  Действующее   \n",
       "5                   ОСНО         26793000          Москва\\МО  Действующее   \n",
       "8                   ОСНО         75500000          Москва\\МО  Действующее   \n",
       "\n",
       "   СистемаНалогообложения_int  РегионОбслуживания_int  Статус_int  \n",
       "0                           4                       1           0  \n",
       "2                           7                       1           0  \n",
       "3                           4                       1           0  \n",
       "5                           4                       1           0  \n",
       "8                           4                       1           0  "
      ]
     },
     "execution_count": 8,
     "metadata": {},
     "output_type": "execute_result"
    }
   ],
   "source": [
    "#Номинативные переменные, меняем на числовые\n",
    "from sklearn.preprocessing import LabelEncoder\n",
    "le=LabelEncoder()\n",
    "\n",
    "category=['СистемаНалогообложения','РегионОбслуживания','Статус']\n",
    "\n",
    "for i in category:\n",
    "    le.fit(data_false[i])\n",
    "    data_false[i+'_int']=le.transform(data_false[i])\n",
    "\n",
    "data_false.head()"
   ]
  },
  {
   "cell_type": "markdown",
   "id": "0f54fe64",
   "metadata": {},
   "source": [
    "# Стандартизация данных"
   ]
  },
  {
   "cell_type": "code",
   "execution_count": 9,
   "id": "73d75d02",
   "metadata": {},
   "outputs": [],
   "source": [
    "from sklearn.preprocessing import StandardScaler\n",
    "x=data_false[['ВыручкаОтПродаж','СистемаНалогообложения_int','РегионОбслуживания_int','Статус_int']]\n",
    "x=np.nan_to_num(x)\n",
    "scaler= StandardScaler().fit_transform(x) "
   ]
  },
  {
   "cell_type": "markdown",
   "id": "b6c386b2",
   "metadata": {},
   "source": [
    "# Кластеризируем данные"
   ]
  },
  {
   "cell_type": "code",
   "execution_count": 10,
   "id": "3edf6e7f",
   "metadata": {},
   "outputs": [],
   "source": [
    "from sklearn.cluster import DBSCAN\n",
    "\n",
    "dbscan = DBSCAN(eps=0.3, min_samples=5)\n",
    "\n",
    "dbscan.fit(scaler)\n",
    "\n",
    "labels = dbscan.labels_"
   ]
  },
  {
   "cell_type": "code",
   "execution_count": 11,
   "id": "374766a4",
   "metadata": {},
   "outputs": [
    {
     "name": "stdout",
     "output_type": "stream",
     "text": [
      "28 \n"
     ]
    }
   ],
   "source": [
    "data_false['kluster']=labels\n",
    "print(max(labels)+1,'')"
   ]
  },
  {
   "cell_type": "markdown",
   "id": "b6094987",
   "metadata": {},
   "source": [
    "# Выводы:\n",
    "- Метод DBSCAN разбил выборку на 28 кластеров;\n",
    "- значения кластера с меткой -1, это выброс (не стандартные значения) таких получилось 49;"
   ]
  },
  {
   "cell_type": "code",
   "execution_count": 12,
   "id": "43a9d84e",
   "metadata": {},
   "outputs": [],
   "source": [
    "#data_false[data_false['kluster']==-1]\n",
    "# Сохраняю отказы, разбитые по кластерам в файлик\n",
    "data_false.to_excel(\"кластеризация_отказов.xlsx\")"
   ]
  },
  {
   "cell_type": "markdown",
   "id": "df77cb62",
   "metadata": {},
   "source": [
    "# Для обучения модели, отберем значения \"Отказов\" из каждого кластера, чтобы получилось 1720 значений, и 1720 значений сделок."
   ]
  },
  {
   "cell_type": "code",
   "execution_count": 13,
   "id": "c7610180",
   "metadata": {},
   "outputs": [
    {
     "data": {
      "text/html": [
       "<div>\n",
       "<style scoped>\n",
       "    .dataframe tbody tr th:only-of-type {\n",
       "        vertical-align: middle;\n",
       "    }\n",
       "\n",
       "    .dataframe tbody tr th {\n",
       "        vertical-align: top;\n",
       "    }\n",
       "\n",
       "    .dataframe thead th {\n",
       "        text-align: right;\n",
       "    }\n",
       "</style>\n",
       "<table border=\"1\" class=\"dataframe\">\n",
       "  <thead>\n",
       "    <tr style=\"text-align: right;\">\n",
       "      <th></th>\n",
       "      <th>СистемаНалогообложения</th>\n",
       "      <th>ВыручкаОтПродаж</th>\n",
       "      <th>РегионОбслуживания</th>\n",
       "      <th>Статус</th>\n",
       "      <th>Сделка</th>\n",
       "      <th>СистемаНалогообложения_int</th>\n",
       "      <th>РегионОбслуживания_int</th>\n",
       "      <th>Статус_int</th>\n",
       "    </tr>\n",
       "  </thead>\n",
       "  <tbody>\n",
       "    <tr>\n",
       "      <th>18837</th>\n",
       "      <td>ОСНО</td>\n",
       "      <td>234636000</td>\n",
       "      <td>Другой регион</td>\n",
       "      <td>Недействующие</td>\n",
       "      <td>0</td>\n",
       "      <td>4</td>\n",
       "      <td>0</td>\n",
       "      <td>1</td>\n",
       "    </tr>\n",
       "    <tr>\n",
       "      <th>19171</th>\n",
       "      <td>УСНО 15%</td>\n",
       "      <td>0</td>\n",
       "      <td>Другой регион</td>\n",
       "      <td>Действующее</td>\n",
       "      <td>0</td>\n",
       "      <td>7</td>\n",
       "      <td>0</td>\n",
       "      <td>0</td>\n",
       "    </tr>\n",
       "    <tr>\n",
       "      <th>755</th>\n",
       "      <td>ОСНО</td>\n",
       "      <td>3994230000</td>\n",
       "      <td>Москва\\МО</td>\n",
       "      <td>Действующее</td>\n",
       "      <td>1</td>\n",
       "      <td>4</td>\n",
       "      <td>1</td>\n",
       "      <td>0</td>\n",
       "    </tr>\n",
       "    <tr>\n",
       "      <th>32338</th>\n",
       "      <td>ОСНО,УСНО</td>\n",
       "      <td>123359000</td>\n",
       "      <td>Москва\\МО</td>\n",
       "      <td>Действующее</td>\n",
       "      <td>0</td>\n",
       "      <td>5</td>\n",
       "      <td>1</td>\n",
       "      <td>0</td>\n",
       "    </tr>\n",
       "    <tr>\n",
       "      <th>1183</th>\n",
       "      <td>УСНО 6%</td>\n",
       "      <td>2316000</td>\n",
       "      <td>Москва\\МО</td>\n",
       "      <td>Действующее</td>\n",
       "      <td>1</td>\n",
       "      <td>8</td>\n",
       "      <td>1</td>\n",
       "      <td>0</td>\n",
       "    </tr>\n",
       "  </tbody>\n",
       "</table>\n",
       "</div>"
      ],
      "text/plain": [
       "      СистемаНалогообложения  ВыручкаОтПродаж РегионОбслуживания  \\\n",
       "18837                   ОСНО        234636000      Другой регион   \n",
       "19171               УСНО 15%                0      Другой регион   \n",
       "755                     ОСНО       3994230000          Москва\\МО   \n",
       "32338              ОСНО,УСНО        123359000          Москва\\МО   \n",
       "1183                 УСНО 6%          2316000          Москва\\МО   \n",
       "\n",
       "              Статус  Сделка  СистемаНалогообложения_int  \\\n",
       "18837  Недействующие       0                           4   \n",
       "19171    Действующее       0                           7   \n",
       "755      Действующее       1                           4   \n",
       "32338    Действующее       0                           5   \n",
       "1183     Действующее       1                           8   \n",
       "\n",
       "       РегионОбслуживания_int  Статус_int  \n",
       "18837                       0           1  \n",
       "19171                       0           0  \n",
       "755                         1           0  \n",
       "32338                       1           0  \n",
       "1183                        1           0  "
      ]
     },
     "execution_count": 13,
     "metadata": {},
     "output_type": "execute_result"
    }
   ],
   "source": [
    "data_f=pd.concat([data_false[data_false['kluster']==27][:6], \n",
    "                  data_false[data_false['kluster']==26][:10],\n",
    "                  data_false[data_false['kluster']==25][:10],\n",
    "                  data_false[data_false['kluster']==24][:9],\n",
    "                  data_false[data_false['kluster']==23][:7],\n",
    "                  data_false[data_false['kluster']==22][:4],\n",
    "                  data_false[data_false['kluster']==21][:8],\n",
    "                  data_false[data_false['kluster']==20][:14],\n",
    "                  data_false[data_false['kluster']==19][:60],\n",
    "                  data_false[data_false['kluster']==18][:70],\n",
    "                  data_false[data_false['kluster']==17][:10],\n",
    "                  data_false[data_false['kluster']==16][:48],\n",
    "                  data_false[data_false['kluster']==15][:5],\n",
    "                  data_false[data_false['kluster']==14][:20],\n",
    "                  data_false[data_false['kluster']==13][:23],\n",
    "                  data_false[data_false['kluster']==12][:39],\n",
    "                  data_false[data_false['kluster']==11][:15],\n",
    "                  data_false[data_false['kluster']==10].sample(n=130),\n",
    "                  data_false[data_false['kluster']==9].sample(n=130),\n",
    "                  data_false[data_false['kluster']==8].sample(n=130),\n",
    "                  data_false[data_false['kluster']==7].sample(n=130),\n",
    "                  data_false[data_false['kluster']==6].sample(n=130),\n",
    "                  data_false[data_false['kluster']==5].sample(n=130),\n",
    "                  data_false[data_false['kluster']==4][:62],\n",
    "                  data_false[data_false['kluster']==3].sample(n=130),\n",
    "                  data_false[data_false['kluster']==2].sample(n=130),\n",
    "                  data_false[data_false['kluster']==1].sample(n=130),\n",
    "                  data_false[data_false['kluster']==0].sample(n=130)])\n",
    "\n",
    "# Отказы\n",
    "data_f['Сделка']=0\n",
    "data_f=data_f[['СистемаНалогообложения','ВыручкаОтПродаж','РегионОбслуживания','Статус','Сделка']]\n",
    "\n",
    "# Сделки\n",
    "data_t=data_true[:1720]. \\\n",
    "rename(columns={\"Выручка \\nКомпании, руб\":\"ВыручкаОтПродаж\"})\n",
    "data_t['Сделка']=1\n",
    "data_t=data_t[['СистемаНалогообложения','ВыручкаОтПродаж','РегионОбслуживания','Статус','Сделка']]\n",
    "\n",
    "data=pd.concat([data_f,data_t])\n",
    "\n",
    "#Номинативные переменные, меняем на числовые\n",
    "le=LabelEncoder()\n",
    "category=['СистемаНалогообложения','РегионОбслуживания','Статус']\n",
    "\n",
    "for i in category:\n",
    "    le.fit(data[i])\n",
    "    data[i+'_int']=le.transform(data[i])\n",
    "\n",
    "# перемешаем Датасет\n",
    "data = data.sample(frac=1)\n",
    "data.head(5)"
   ]
  },
  {
   "cell_type": "markdown",
   "id": "49950111",
   "metadata": {},
   "source": [
    "# Данные для прогноза"
   ]
  },
  {
   "cell_type": "code",
   "execution_count": 14,
   "id": "92597b89",
   "metadata": {},
   "outputs": [],
   "source": [
    "data_f_p=pd.concat([data_false[data_false['kluster']==27][6:],\n",
    "                    data_false[data_false['kluster']==26][10:],\n",
    "                    data_false[data_false['kluster']==25][10:],\n",
    "                    data_false[data_false['kluster']==24][9:],\n",
    "                    data_false[data_false['kluster']==23][7:],\n",
    "                    data_false[data_false['kluster']==22][4:],\n",
    "                    data_false[data_false['kluster']==21][8:],\n",
    "                    data_false[data_false['kluster']==20][14:],\n",
    "                    data_false[data_false['kluster']==19][60:],\n",
    "                    data_false[data_false['kluster']==18][72:],\n",
    "                    data_false[data_false['kluster']==17][10:],\n",
    "                    data_false[data_false['kluster']==16][48:],\n",
    "                    data_false[data_false['kluster']==15][5:],\n",
    "                    data_false[data_false['kluster']==14][20:],\n",
    "                    data_false[data_false['kluster']==13][23:],\n",
    "                    data_false[data_false['kluster']==12][39:],\n",
    "                    data_false[data_false['kluster']==11][:15],\n",
    "                    data_false[data_false['kluster']==10].sample(n=2),\n",
    "                    data_false[data_false['kluster']==9].sample(n=2),\n",
    "                    data_false[data_false['kluster']==8].sample(n=2),\n",
    "                    data_false[data_false['kluster']==7].sample(n=2),\n",
    "                    data_false[data_false['kluster']==6].sample(n=2),\n",
    "                    data_false[data_false['kluster']==5].sample(n=2),\n",
    "                    data_false[data_false['kluster']==4][62:],\n",
    "                    data_false[data_false['kluster']==3].sample(n=2),\n",
    "                    data_false[data_false['kluster']==2].sample(n=2),\n",
    "                    data_false[data_false['kluster']==1].sample(n=2),\n",
    "                    data_false[data_false['kluster']==0].sample(n=2)])\n",
    "\n",
    "\n",
    "data_f_p['Сделка']=0\n",
    "data_f_p=data_f_p[['СистемаНалогообложения','ВыручкаОтПродаж','РегионОбслуживания','Статус','Сделка']]\n",
    "\n",
    "data_t_p=data_true[1720:]. \\\n",
    "rename(columns={\"Выручка \\nКомпании, руб\":\"ВыручкаОтПродаж\"})\n",
    "data_t_p['Сделка']=1\n",
    "data_t_p=data_t_p[['СистемаНалогообложения','ВыручкаОтПродаж','РегионОбслуживания','Статус','Сделка']]\n",
    "\n",
    "data_p=pd.concat([data_t_p,data_f_p])\n",
    "\n",
    "data_p=data_p[['СистемаНалогообложения','ВыручкаОтПродаж','РегионОбслуживания','Статус','Сделка']]\n",
    "\n",
    "data_p.to_excel(\"Данные для прогноза.xlsx\",index=False)"
   ]
  },
  {
   "cell_type": "code",
   "execution_count": 15,
   "id": "1b8e474e",
   "metadata": {},
   "outputs": [],
   "source": [
    "# Номинативные переменные, заменяем на качественные, данными, как при обучении\n",
    "sn=['Аутсорсинг','Бюджет','ЕНВД','ЕСХН','ОСНО','ОСНО,УСНО','Патент','УСНО 15%','УСНО 6%']\n",
    "def alert(row):\n",
    "    for i in range(0,9):\n",
    "         if row['СистемаНалогообложения']==sn[i]:\n",
    "                return i\n",
    "data_p['СистемаНалогообложения']=data_p.apply(alert, axis=1) \n",
    "\n",
    "ro=['Другой регион','Москва\\МО']\n",
    "def alert_r(row):\n",
    "    for i in range(0,2):\n",
    "         if row['РегионОбслуживания']==ro[i]:\n",
    "                return i\n",
    "data_p['РегионОбслуживания']=data_p.apply(alert_r, axis=1)\n",
    "\n",
    "st=['Действующее','Недействующие','Нет информации']\n",
    "def alert_s(row):\n",
    "    for i in range(0,3):\n",
    "         if row['Статус']==st[i]:\n",
    "                return i\n",
    "data_p['Статус']=data_p.apply(alert_s, axis=1)\n",
    "\n",
    "data_p = data_p.sample(frac=1)"
   ]
  },
  {
   "cell_type": "code",
   "execution_count": 16,
   "id": "c669fa18",
   "metadata": {},
   "outputs": [
    {
     "data": {
      "text/html": [
       "<div>\n",
       "<style scoped>\n",
       "    .dataframe tbody tr th:only-of-type {\n",
       "        vertical-align: middle;\n",
       "    }\n",
       "\n",
       "    .dataframe tbody tr th {\n",
       "        vertical-align: top;\n",
       "    }\n",
       "\n",
       "    .dataframe thead th {\n",
       "        text-align: right;\n",
       "    }\n",
       "</style>\n",
       "<table border=\"1\" class=\"dataframe\">\n",
       "  <thead>\n",
       "    <tr style=\"text-align: right;\">\n",
       "      <th></th>\n",
       "      <th>СистемаНалогообложения_int</th>\n",
       "      <th>ВыручкаОтПродаж</th>\n",
       "      <th>РегионОбслуживания_int</th>\n",
       "      <th>Статус_int</th>\n",
       "      <th>Сделка</th>\n",
       "    </tr>\n",
       "  </thead>\n",
       "  <tbody>\n",
       "    <tr>\n",
       "      <th>3029</th>\n",
       "      <td>7</td>\n",
       "      <td>129704000</td>\n",
       "      <td>1</td>\n",
       "      <td>0</td>\n",
       "      <td>1</td>\n",
       "    </tr>\n",
       "    <tr>\n",
       "      <th>3115</th>\n",
       "      <td>7</td>\n",
       "      <td>117221000</td>\n",
       "      <td>1</td>\n",
       "      <td>0</td>\n",
       "      <td>1</td>\n",
       "    </tr>\n",
       "    <tr>\n",
       "      <th>45958</th>\n",
       "      <td>1</td>\n",
       "      <td>463007000</td>\n",
       "      <td>1</td>\n",
       "      <td>0</td>\n",
       "      <td>0</td>\n",
       "    </tr>\n",
       "    <tr>\n",
       "      <th>3119</th>\n",
       "      <td>8</td>\n",
       "      <td>13041000</td>\n",
       "      <td>1</td>\n",
       "      <td>0</td>\n",
       "      <td>1</td>\n",
       "    </tr>\n",
       "    <tr>\n",
       "      <th>3059</th>\n",
       "      <td>7</td>\n",
       "      <td>8518000</td>\n",
       "      <td>1</td>\n",
       "      <td>0</td>\n",
       "      <td>1</td>\n",
       "    </tr>\n",
       "    <tr>\n",
       "      <th>3077</th>\n",
       "      <td>7</td>\n",
       "      <td>17242000</td>\n",
       "      <td>1</td>\n",
       "      <td>0</td>\n",
       "      <td>1</td>\n",
       "    </tr>\n",
       "    <tr>\n",
       "      <th>3111</th>\n",
       "      <td>4</td>\n",
       "      <td>195214000</td>\n",
       "      <td>1</td>\n",
       "      <td>0</td>\n",
       "      <td>1</td>\n",
       "    </tr>\n",
       "    <tr>\n",
       "      <th>3028</th>\n",
       "      <td>4</td>\n",
       "      <td>44633000</td>\n",
       "      <td>1</td>\n",
       "      <td>0</td>\n",
       "      <td>1</td>\n",
       "    </tr>\n",
       "    <tr>\n",
       "      <th>14362</th>\n",
       "      <td>7</td>\n",
       "      <td>7875000</td>\n",
       "      <td>0</td>\n",
       "      <td>0</td>\n",
       "      <td>0</td>\n",
       "    </tr>\n",
       "    <tr>\n",
       "      <th>3078</th>\n",
       "      <td>7</td>\n",
       "      <td>5880000</td>\n",
       "      <td>1</td>\n",
       "      <td>0</td>\n",
       "      <td>1</td>\n",
       "    </tr>\n",
       "  </tbody>\n",
       "</table>\n",
       "</div>"
      ],
      "text/plain": [
       "       СистемаНалогообложения_int  ВыручкаОтПродаж  РегионОбслуживания_int  \\\n",
       "3029                            7        129704000                       1   \n",
       "3115                            7        117221000                       1   \n",
       "45958                           1        463007000                       1   \n",
       "3119                            8         13041000                       1   \n",
       "3059                            7          8518000                       1   \n",
       "3077                            7         17242000                       1   \n",
       "3111                            4        195214000                       1   \n",
       "3028                            4         44633000                       1   \n",
       "14362                           7          7875000                       0   \n",
       "3078                            7          5880000                       1   \n",
       "\n",
       "       Статус_int  Сделка  \n",
       "3029            0       1  \n",
       "3115            0       1  \n",
       "45958           0       0  \n",
       "3119            0       1  \n",
       "3059            0       1  \n",
       "3077            0       1  \n",
       "3111            0       1  \n",
       "3028            0       1  \n",
       "14362           0       0  \n",
       "3078            0       1  "
      ]
     },
     "execution_count": 16,
     "metadata": {},
     "output_type": "execute_result"
    }
   ],
   "source": [
    "data_p.rename(columns={\"СистемаНалогообложения\":\"СистемаНалогообложения_int\",\n",
    "                              \"РегионОбслуживания\":\"РегионОбслуживания_int\",\n",
    "                              \"Статус\":\"Статус_int\"}, inplace = True) \n",
    "# перемешаем Датасет\n",
    "data_p.head(10)"
   ]
  },
  {
   "cell_type": "markdown",
   "id": "efe14287",
   "metadata": {},
   "source": [
    "# Модель на CatBoost"
   ]
  },
  {
   "cell_type": "code",
   "execution_count": 17,
   "id": "ecc184df",
   "metadata": {},
   "outputs": [],
   "source": [
    "from catboost import CatBoostClassifier\n",
    "from catboost import Pool\n",
    "from sklearn.model_selection import train_test_split\n",
    "from sklearn import metrics"
   ]
  },
  {
   "cell_type": "code",
   "execution_count": 18,
   "id": "9e25c8bd",
   "metadata": {},
   "outputs": [
    {
     "data": {
      "text/plain": [
       "(3440, 8)"
      ]
     },
     "execution_count": 18,
     "metadata": {},
     "output_type": "execute_result"
    }
   ],
   "source": [
    "data.shape"
   ]
  },
  {
   "cell_type": "code",
   "execution_count": 19,
   "id": "e140a0c9",
   "metadata": {},
   "outputs": [
    {
     "data": {
      "text/plain": [
       "[['СистемаНалогообложения_int'],\n",
       " ['ВыручкаОтПродаж'],\n",
       " ['РегионОбслуживания_int'],\n",
       " ['Статус_int'],\n",
       " ['СистемаНалогообложения_int', 'ВыручкаОтПродаж'],\n",
       " ['СистемаНалогообложения_int', 'РегионОбслуживания_int'],\n",
       " ['СистемаНалогообложения_int', 'Статус_int'],\n",
       " ['ВыручкаОтПродаж', 'РегионОбслуживания_int'],\n",
       " ['ВыручкаОтПродаж', 'Статус_int'],\n",
       " ['РегионОбслуживания_int', 'Статус_int'],\n",
       " ['СистемаНалогообложения_int', 'ВыручкаОтПродаж', 'РегионОбслуживания_int'],\n",
       " ['СистемаНалогообложения_int', 'ВыручкаОтПродаж', 'Статус_int'],\n",
       " ['СистемаНалогообложения_int', 'РегионОбслуживания_int', 'Статус_int'],\n",
       " ['ВыручкаОтПродаж', 'РегионОбслуживания_int', 'Статус_int'],\n",
       " ['СистемаНалогообложения_int',\n",
       "  'ВыручкаОтПродаж',\n",
       "  'РегионОбслуживания_int',\n",
       "  'Статус_int']]"
      ]
     },
     "execution_count": 19,
     "metadata": {},
     "output_type": "execute_result"
    }
   ],
   "source": [
    "#Отбор признаков\n",
    "# Будем перебирать все комбинации атрибутов\n",
    "from itertools import combinations\n",
    "name_columns=list(data[['СистемаНалогообложения_int','ВыручкаОтПродаж','РегионОбслуживания_int','Статус_int',]].columns)\n",
    "feature = sum([list(map(list, combinations(name_columns, i))) for i in range(len(name_columns) + 1)], [])\n",
    "feature.pop(0)\n",
    "feature"
   ]
  },
  {
   "cell_type": "code",
   "execution_count": 20,
   "id": "2df63db3",
   "metadata": {},
   "outputs": [],
   "source": [
    "x_pred=data_p.iloc[:,:-1]\n",
    "y_true=data_p.iloc[:,-1]"
   ]
  },
  {
   "cell_type": "code",
   "execution_count": 21,
   "id": "51591da5",
   "metadata": {},
   "outputs": [],
   "source": [
    "# Данные\n",
    "x=data[['СистемаНалогообложения_int','ВыручкаОтПродаж','РегионОбслуживания_int','Статус_int',]] # Зависимые переменные \n",
    "y=data['Сделка'] # Прогноз\n",
    "\n",
    "x_train, x_test, y_train, y_test = train_test_split(x, y, test_size=0.20,random_state=42)\n",
    "\n",
    "\n",
    "info_test=[]\n",
    "info_p=[]\n",
    "\n",
    "# будем перебирать все признаки \n",
    "# и смотреть метрику на тестовой выборке,\n",
    "# и на выборке, которая не учавствует в обучении.\n",
    "# Метрики для оценки качества Accuracy и ROK-AUC\n",
    "\n",
    "\n",
    "for i in feature:\n",
    "    train_pool=Pool(data=x_train[i], label=y_train)\n",
    "    validation_pool=Pool(data=x_test[i],label=y_test)\n",
    "\n",
    "    model = CatBoostClassifier(\n",
    "    iterations=11500,\n",
    "    learning_rate = 0.003,\n",
    "    random_seed=63,\n",
    "    custom_loss=['AUC', 'Accuracy'],\n",
    "    use_best_model=True)\n",
    "    \n",
    "    \n",
    "    model.fit(\n",
    "    train_pool, \n",
    "    eval_set=validation_pool,\n",
    "    verbose=False,\n",
    "    plot=False);\n",
    "    \n",
    "    pred=model.predict(x_pred[i])\n",
    "    pred_test=model.predict(x_test[i])\n",
    "    \n",
    "    info_p.append([i,round(metrics.accuracy_score(y_true,pred),2), round(metrics.roc_auc_score(y_true,pred),2)])\n",
    "    info_test.append([i,round(metrics.accuracy_score(y_test,pred_test),2), round(metrics.roc_auc_score(y_test,pred_test),2)]) "
   ]
  },
  {
   "cell_type": "code",
   "execution_count": 22,
   "id": "41af41d5",
   "metadata": {},
   "outputs": [
    {
     "name": "stdout",
     "output_type": "stream",
     "text": [
      "Результат на тестовой выборке, Accuracy and ROK-AUC\n",
      "[['ВыручкаОтПродаж'], 0.54, 0.55]\n",
      "[['РегионОбслуживания_int'], 0.61, 0.6]\n",
      "[['Статус_int'], 0.62, 0.61]\n",
      "[['ВыручкаОтПродаж', 'Статус_int'], 0.63, 0.62]\n",
      "[['ВыручкаОтПродаж', 'РегионОбслуживания_int'], 0.65, 0.64]\n",
      "[['РегионОбслуживания_int', 'Статус_int'], 0.71, 0.7]\n",
      "[['СистемаНалогообложения_int'], 0.72, 0.71]\n",
      "[['ВыручкаОтПродаж', 'РегионОбслуживания_int', 'Статус_int'], 0.72, 0.72]\n",
      "[['СистемаНалогообложения_int', 'ВыручкаОтПродаж'], 0.74, 0.73]\n",
      "[['СистемаНалогообложения_int', 'РегионОбслуживания_int'], 0.76, 0.75]\n",
      "[['СистемаНалогообложения_int', 'Статус_int'], 0.78, 0.78]\n",
      "[['СистемаНалогообложения_int', 'ВыручкаОтПродаж', 'РегионОбслуживания_int'], 0.78, 0.77]\n",
      "[['СистемаНалогообложения_int', 'ВыручкаОтПродаж', 'Статус_int'], 0.79, 0.79]\n",
      "[['СистемаНалогообложения_int', 'РегионОбслуживания_int', 'Статус_int'], 0.83, 0.83]\n",
      "[['СистемаНалогообложения_int', 'ВыручкаОтПродаж', 'РегионОбслуживания_int', 'Статус_int'], 0.85, 0.84]\n"
     ]
    }
   ],
   "source": [
    "print('Результат на тестовой выборке, Accuracy and ROK-AUC')\n",
    "info_test = sorted(info_test, key=lambda x: (x[1], -x[1]))\n",
    "for i in info_test:\n",
    "    print(i)"
   ]
  },
  {
   "cell_type": "code",
   "execution_count": 23,
   "id": "c21ce629",
   "metadata": {},
   "outputs": [
    {
     "name": "stdout",
     "output_type": "stream",
     "text": [
      "Результат на прогнозной выборке, Accuracy and ROK-AUC\n",
      "[['ВыручкаОтПродаж'], 0.5, 0.49]\n",
      "[['СистемаНалогообложения_int'], 0.52, 0.52]\n",
      "[['СистемаНалогообложения_int', 'Статус_int'], 0.57, 0.57]\n",
      "[['Статус_int'], 0.58, 0.61]\n",
      "[['СистемаНалогообложения_int', 'ВыручкаОтПродаж'], 0.59, 0.59]\n",
      "[['ВыручкаОтПродаж', 'Статус_int'], 0.64, 0.67]\n",
      "[['СистемаНалогообложения_int', 'ВыручкаОтПродаж', 'Статус_int'], 0.65, 0.66]\n",
      "[['РегионОбслуживания_int'], 0.68, 0.71]\n",
      "[['ВыручкаОтПродаж', 'РегионОбслуживания_int'], 0.74, 0.76]\n",
      "[['СистемаНалогообложения_int', 'РегионОбслуживания_int'], 0.79, 0.8]\n",
      "[['РегионОбслуживания_int', 'Статус_int'], 0.8, 0.82]\n",
      "[['СистемаНалогообложения_int', 'ВыручкаОтПродаж', 'РегионОбслуживания_int'], 0.85, 0.85]\n",
      "[['ВыручкаОтПродаж', 'РегионОбслуживания_int', 'Статус_int'], 0.85, 0.86]\n",
      "[['СистемаНалогообложения_int', 'РегионОбслуживания_int', 'Статус_int'], 0.88, 0.89]\n",
      "[['СистемаНалогообложения_int', 'ВыручкаОтПродаж', 'РегионОбслуживания_int', 'Статус_int'], 0.92, 0.93]\n"
     ]
    }
   ],
   "source": [
    "print('Результат на прогнозной выборке, Accuracy and ROK-AUC')\n",
    "info_p = sorted(info_p, key=lambda x: (x[1], -x[1]))\n",
    "for i in info_p:\n",
    "    print(i)"
   ]
  },
  {
   "cell_type": "markdown",
   "id": "8afa9cbb",
   "metadata": {},
   "source": [
    "# Вывод:\n",
    "- Лучше всего показала модель на тестовых и на прогнозных данных, с атрибутами \n",
    "\n",
    "СистемаНалогообложения_int, ВыручкаОтПродаж, РегионОбслуживания_int, Статус_int"
   ]
  },
  {
   "cell_type": "code",
   "execution_count": 24,
   "id": "16de681e",
   "metadata": {},
   "outputs": [
    {
     "data": {
      "text/html": [
       "<div>\n",
       "<style scoped>\n",
       "    .dataframe tbody tr th:only-of-type {\n",
       "        vertical-align: middle;\n",
       "    }\n",
       "\n",
       "    .dataframe tbody tr th {\n",
       "        vertical-align: top;\n",
       "    }\n",
       "\n",
       "    .dataframe thead th {\n",
       "        text-align: right;\n",
       "    }\n",
       "</style>\n",
       "<table border=\"1\" class=\"dataframe\">\n",
       "  <thead>\n",
       "    <tr style=\"text-align: right;\">\n",
       "      <th></th>\n",
       "      <th>Feature Id</th>\n",
       "      <th>Importances</th>\n",
       "    </tr>\n",
       "  </thead>\n",
       "  <tbody>\n",
       "    <tr>\n",
       "      <th>0</th>\n",
       "      <td>РегионОбслуживания_int</td>\n",
       "      <td>55.095896</td>\n",
       "    </tr>\n",
       "    <tr>\n",
       "      <th>1</th>\n",
       "      <td>СистемаНалогообложения_int</td>\n",
       "      <td>24.341235</td>\n",
       "    </tr>\n",
       "    <tr>\n",
       "      <th>2</th>\n",
       "      <td>Статус_int</td>\n",
       "      <td>12.872688</td>\n",
       "    </tr>\n",
       "    <tr>\n",
       "      <th>3</th>\n",
       "      <td>ВыручкаОтПродаж</td>\n",
       "      <td>7.690182</td>\n",
       "    </tr>\n",
       "  </tbody>\n",
       "</table>\n",
       "</div>"
      ],
      "text/plain": [
       "                   Feature Id  Importances\n",
       "0      РегионОбслуживания_int    55.095896\n",
       "1  СистемаНалогообложения_int    24.341235\n",
       "2                  Статус_int    12.872688\n",
       "3             ВыручкаОтПродаж     7.690182"
      ]
     },
     "execution_count": 24,
     "metadata": {},
     "output_type": "execute_result"
    }
   ],
   "source": [
    "# Оценка влияния фичей (признаков) в % соотношении\n",
    "model.get_feature_importance(prettified=True)"
   ]
  },
  {
   "cell_type": "code",
   "execution_count": 25,
   "id": "7a6bd1cd",
   "metadata": {},
   "outputs": [
    {
     "data": {
      "text/html": [
       "<div>\n",
       "<style scoped>\n",
       "    .dataframe tbody tr th:only-of-type {\n",
       "        vertical-align: middle;\n",
       "    }\n",
       "\n",
       "    .dataframe tbody tr th {\n",
       "        vertical-align: top;\n",
       "    }\n",
       "\n",
       "    .dataframe thead th {\n",
       "        text-align: right;\n",
       "    }\n",
       "</style>\n",
       "<table border=\"1\" class=\"dataframe\">\n",
       "  <thead>\n",
       "    <tr style=\"text-align: right;\">\n",
       "      <th></th>\n",
       "      <th>Feature Id</th>\n",
       "      <th>Importances</th>\n",
       "    </tr>\n",
       "  </thead>\n",
       "  <tbody>\n",
       "    <tr>\n",
       "      <th>0</th>\n",
       "      <td>РегионОбслуживания_int</td>\n",
       "      <td>50.736640</td>\n",
       "    </tr>\n",
       "    <tr>\n",
       "      <th>1</th>\n",
       "      <td>СистемаНалогообложения_int</td>\n",
       "      <td>27.759678</td>\n",
       "    </tr>\n",
       "    <tr>\n",
       "      <th>2</th>\n",
       "      <td>Статус_int</td>\n",
       "      <td>14.008664</td>\n",
       "    </tr>\n",
       "    <tr>\n",
       "      <th>3</th>\n",
       "      <td>ВыручкаОтПродаж</td>\n",
       "      <td>7.495018</td>\n",
       "    </tr>\n",
       "  </tbody>\n",
       "</table>\n",
       "</div>"
      ],
      "text/plain": [
       "                   Feature Id  Importances\n",
       "0      РегионОбслуживания_int    50.736640\n",
       "1  СистемаНалогообложения_int    27.759678\n",
       "2                  Статус_int    14.008664\n",
       "3             ВыручкаОтПродаж     7.495018"
      ]
     },
     "execution_count": 25,
     "metadata": {},
     "output_type": "execute_result"
    }
   ],
   "source": [
    "# Оценка влияния фичей (признаков) на loss функцию в % соотношении\n",
    "model.get_feature_importance(\n",
    "    validation_pool,   #LossFunctionChange\n",
    "    prettified=True)"
   ]
  },
  {
   "cell_type": "code",
   "execution_count": 26,
   "id": "401d22b4",
   "metadata": {},
   "outputs": [
    {
     "name": "stdout",
     "output_type": "stream",
     "text": [
      "Результат на прогнозной выборке, Accuracy and ROK-AUC\n",
      "[['СистемаНалогообложения_int', 'ВыручкаОтПродаж', 'РегионОбслуживания_int', 'Статус_int'], 0.92, 0.93]\n",
      "\n",
      "Результат на тестовой выборке, Accuracy and ROK-AUC\n",
      "[['СистемаНалогообложения_int', 'ВыручкаОтПродаж', 'РегионОбслуживания_int', 'Статус_int'], 0.85, 0.84]\n"
     ]
    }
   ],
   "source": [
    "print('Результат на прогнозной выборке, Accuracy and ROK-AUC')\n",
    "print(info_p[-1])\n",
    "print()\n",
    "print('Результат на тестовой выборке, Accuracy and ROK-AUC')\n",
    "print(info_test[-1])"
   ]
  },
  {
   "cell_type": "markdown",
   "id": "930e7a3a",
   "metadata": {},
   "source": [
    "# Сохраняем модель"
   ]
  },
  {
   "cell_type": "code",
   "execution_count": 27,
   "id": "5c30fb64",
   "metadata": {},
   "outputs": [],
   "source": [
    "model.save_model(\"Catboost_Model_1C.bin\")"
   ]
  },
  {
   "cell_type": "markdown",
   "id": "88a95dc8",
   "metadata": {},
   "source": [
    "# Итоговая модель с визуализацией"
   ]
  },
  {
   "cell_type": "code",
   "execution_count": 28,
   "id": "8f1b9cb2",
   "metadata": {},
   "outputs": [
    {
     "data": {
      "application/vnd.jupyter.widget-view+json": {
       "model_id": "49f0db231fd045688e4dfccb0f9a2e86",
       "version_major": 2,
       "version_minor": 0
      },
      "text/plain": [
       "MetricVisualizer(layout=Layout(align_self='stretch', height='500px'))"
      ]
     },
     "metadata": {},
     "output_type": "display_data"
    }
   ],
   "source": [
    "info_test_new=[]\n",
    "info_p_new=[]\n",
    "\n",
    "model_over = CatBoostClassifier(\n",
    "         iterations=11500,\n",
    "         learning_rate = 0.003,\n",
    "         random_seed=63,\n",
    "         custom_loss=['AUC', 'Accuracy'],\n",
    "         use_best_model=True)\n",
    "    \n",
    "model_over.fit(\n",
    "         train_pool, \n",
    "         eval_set=validation_pool,\n",
    "         verbose=False,\n",
    "         plot=True);\n",
    "    \n",
    "pred_new=model_over.predict(x_pred)\n",
    "pred_test_new=model_over.predict(x_test)\n",
    "    "
   ]
  },
  {
   "cell_type": "code",
   "execution_count": 29,
   "id": "67e2236a",
   "metadata": {},
   "outputs": [],
   "source": [
    "info_p_new.append([round(metrics.accuracy_score(y_true,pred_new),2), \n",
    "                   round(metrics.roc_auc_score(y_true,pred_new),2)])\n",
    "\n",
    "info_test_new.append([round(metrics.accuracy_score(y_test,pred_test_new),2), \n",
    "                      round(metrics.roc_auc_score(y_test,pred_test_new),2)])"
   ]
  },
  {
   "cell_type": "code",
   "execution_count": 30,
   "id": "6f2570de",
   "metadata": {},
   "outputs": [
    {
     "name": "stdout",
     "output_type": "stream",
     "text": [
      "[[0.85, 0.84]]\n"
     ]
    }
   ],
   "source": [
    "print(info_test_new)"
   ]
  },
  {
   "cell_type": "code",
   "execution_count": 31,
   "id": "72c14207",
   "metadata": {},
   "outputs": [
    {
     "name": "stdout",
     "output_type": "stream",
     "text": [
      "[[0.92, 0.93]]\n"
     ]
    }
   ],
   "source": [
    "print(info_p_new)"
   ]
  },
  {
   "cell_type": "code",
   "execution_count": null,
   "id": "332072d8",
   "metadata": {},
   "outputs": [],
   "source": []
  }
 ],
 "metadata": {
  "kernelspec": {
   "display_name": "Python 3 (ipykernel)",
   "language": "python",
   "name": "python3"
  },
  "language_info": {
   "codemirror_mode": {
    "name": "ipython",
    "version": 3
   },
   "file_extension": ".py",
   "mimetype": "text/x-python",
   "name": "python",
   "nbconvert_exporter": "python",
   "pygments_lexer": "ipython3",
   "version": "3.9.13"
  }
 },
 "nbformat": 4,
 "nbformat_minor": 5
}
