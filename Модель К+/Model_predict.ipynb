{
 "cells": [
  {
   "cell_type": "markdown",
   "id": "42adaea7",
   "metadata": {},
   "source": [
    "# Загружаем библиотеки"
   ]
  },
  {
   "cell_type": "code",
   "execution_count": 1,
   "id": "5f8486fb",
   "metadata": {},
   "outputs": [],
   "source": [
    "import pandas as pd\n",
    "import numpy as np"
   ]
  },
  {
   "cell_type": "markdown",
   "id": "0eba9b2f",
   "metadata": {},
   "source": [
    "# Указываем путь к файлу "
   ]
  },
  {
   "cell_type": "code",
   "execution_count": 2,
   "id": "883e9666",
   "metadata": {},
   "outputs": [
    {
     "data": {
      "text/html": [
       "<div>\n",
       "<style scoped>\n",
       "    .dataframe tbody tr th:only-of-type {\n",
       "        vertical-align: middle;\n",
       "    }\n",
       "\n",
       "    .dataframe tbody tr th {\n",
       "        vertical-align: top;\n",
       "    }\n",
       "\n",
       "    .dataframe thead th {\n",
       "        text-align: right;\n",
       "    }\n",
       "</style>\n",
       "<table border=\"1\" class=\"dataframe\">\n",
       "  <thead>\n",
       "    <tr style=\"text-align: right;\">\n",
       "      <th></th>\n",
       "      <th>Ссылка</th>\n",
       "      <th>ПометкаУдаления</th>\n",
       "      <th>Код</th>\n",
       "      <th>ИНН</th>\n",
       "      <th>Наименование</th>\n",
       "      <th>ВидДеятельности</th>\n",
       "      <th>ЮрФизЛицо</th>\n",
       "      <th>СистемаНалогообложения</th>\n",
       "      <th>ВыручкаОтПродаж</th>\n",
       "      <th>КодОКВЭД</th>\n",
       "      <th>...</th>\n",
       "      <th>РегионОбслуживания</th>\n",
       "      <th>Статус</th>\n",
       "      <th>Контрагент</th>\n",
       "      <th>ДатаЗаявки</th>\n",
       "      <th>НомерЗаявки</th>\n",
       "      <th>Исполнитель</th>\n",
       "      <th>ТабельныйНомер</th>\n",
       "      <th>Подразделение</th>\n",
       "      <th>Результат_заявки</th>\n",
       "      <th>КодОКВЭД_69</th>\n",
       "    </tr>\n",
       "  </thead>\n",
       "  <tbody>\n",
       "    <tr>\n",
       "      <th>0</th>\n",
       "      <td>0x805B000E0C67527611DEC2C735886372</td>\n",
       "      <td>0x00</td>\n",
       "      <td>212881</td>\n",
       "      <td>5012051979</td>\n",
       "      <td>Дионикс ЛТД, Управляющая компания (УК), OOO</td>\n",
       "      <td>Управление эксплуатацией жилого фонда за возна...</td>\n",
       "      <td>ЮрЛицо</td>\n",
       "      <td>УСНО 15%</td>\n",
       "      <td>48687000</td>\n",
       "      <td>NaN</td>\n",
       "      <td>...</td>\n",
       "      <td>Москва\\МО</td>\n",
       "      <td>Действующее</td>\n",
       "      <td>0x805B000E0C67527611DEC2C735886372</td>\n",
       "      <td>2020-10-12 10:20:50</td>\n",
       "      <td>971792</td>\n",
       "      <td>NaN</td>\n",
       "      <td>NaN</td>\n",
       "      <td>NaN</td>\n",
       "      <td>В работе</td>\n",
       "      <td>Нет</td>\n",
       "    </tr>\n",
       "    <tr>\n",
       "      <th>1</th>\n",
       "      <td>0x80C41866DAF62E0511E75B2BF1F2DFEE</td>\n",
       "      <td>0x00</td>\n",
       "      <td>421882</td>\n",
       "      <td>5024107979</td>\n",
       "      <td>НАДЕЖНОСТЬ. КАЧЕСТВО. СТАБИЛЬНОСТЬ, УК, ООО</td>\n",
       "      <td>Управление недвижимым имуществом за вознагражд...</td>\n",
       "      <td>ЮрЛицо</td>\n",
       "      <td>ОСНО</td>\n",
       "      <td>77621000</td>\n",
       "      <td>NaN</td>\n",
       "      <td>...</td>\n",
       "      <td>Москва\\МО</td>\n",
       "      <td>Действующее</td>\n",
       "      <td>0x80C41866DAF62E0511E75B2BF1F2DFEE</td>\n",
       "      <td>2021-08-31 12:11:29</td>\n",
       "      <td>1010597</td>\n",
       "      <td>NaN</td>\n",
       "      <td>NaN</td>\n",
       "      <td>NaN</td>\n",
       "      <td>В работе</td>\n",
       "      <td>Нет</td>\n",
       "    </tr>\n",
       "    <tr>\n",
       "      <th>2</th>\n",
       "      <td>0x80D8000AF770612011E55C4BA9493014</td>\n",
       "      <td>0x00</td>\n",
       "      <td>377953</td>\n",
       "      <td>5075034422</td>\n",
       "      <td>ОБЕРЕГ, Общественная организация противопожарн...</td>\n",
       "      <td>Деятельность по обеспечению пожарной безопасности</td>\n",
       "      <td>ЮрЛицо</td>\n",
       "      <td>УСНО 6%</td>\n",
       "      <td>81484000</td>\n",
       "      <td>69</td>\n",
       "      <td>...</td>\n",
       "      <td>Москва\\МО</td>\n",
       "      <td>Действующее</td>\n",
       "      <td>0x80D8000AF770612011E55C4BA9493014</td>\n",
       "      <td>2023-07-14 12:12:46</td>\n",
       "      <td>1101558</td>\n",
       "      <td>NaN</td>\n",
       "      <td>NaN</td>\n",
       "      <td>NaN</td>\n",
       "      <td>В работе</td>\n",
       "      <td>Да</td>\n",
       "    </tr>\n",
       "    <tr>\n",
       "      <th>3</th>\n",
       "      <td>0x80D91866DAF62E0511E7A8F2C85B6095</td>\n",
       "      <td>0x00</td>\n",
       "      <td>428711</td>\n",
       "      <td>7709457880</td>\n",
       "      <td>Фреш Ритейл Групп, ООО</td>\n",
       "      <td>Консультирование по вопросам коммерческой деят...</td>\n",
       "      <td>ЮрЛицо</td>\n",
       "      <td>УСНО 15%</td>\n",
       "      <td>51550000</td>\n",
       "      <td>69.10</td>\n",
       "      <td>...</td>\n",
       "      <td>Москва\\МО</td>\n",
       "      <td>Действующее</td>\n",
       "      <td>0x80D91866DAF62E0511E7A8F2C85B6095</td>\n",
       "      <td>2023-07-14 10:05:49</td>\n",
       "      <td>1101509</td>\n",
       "      <td>NaN</td>\n",
       "      <td>NaN</td>\n",
       "      <td>NaN</td>\n",
       "      <td>В работе</td>\n",
       "      <td>Да</td>\n",
       "    </tr>\n",
       "    <tr>\n",
       "      <th>4</th>\n",
       "      <td>0x80DA000AF770612011E561D30F2AF683</td>\n",
       "      <td>0x00</td>\n",
       "      <td>378566</td>\n",
       "      <td>7704340969</td>\n",
       "      <td>Бридж Групп, ООО</td>\n",
       "      <td>Деятельность по оказанию услуг в области бухга...</td>\n",
       "      <td>ЮрЛицо</td>\n",
       "      <td>ОСНО,УСНО</td>\n",
       "      <td>444402000</td>\n",
       "      <td>69.20</td>\n",
       "      <td>...</td>\n",
       "      <td>Москва\\МО</td>\n",
       "      <td>Действующее</td>\n",
       "      <td>0x80DA000AF770612011E561D30F2AF683</td>\n",
       "      <td>2020-11-05 14:24:47</td>\n",
       "      <td>975013</td>\n",
       "      <td>NaN</td>\n",
       "      <td>NaN</td>\n",
       "      <td>NaN</td>\n",
       "      <td>В работе</td>\n",
       "      <td>Да</td>\n",
       "    </tr>\n",
       "  </tbody>\n",
       "</table>\n",
       "<p>5 rows × 21 columns</p>\n",
       "</div>"
      ],
      "text/plain": [
       "                               Ссылка ПометкаУдаления     Код         ИНН  \\\n",
       "0  0x805B000E0C67527611DEC2C735886372            0x00  212881  5012051979   \n",
       "1  0x80C41866DAF62E0511E75B2BF1F2DFEE            0x00  421882  5024107979   \n",
       "2  0x80D8000AF770612011E55C4BA9493014            0x00  377953  5075034422   \n",
       "3  0x80D91866DAF62E0511E7A8F2C85B6095            0x00  428711  7709457880   \n",
       "4  0x80DA000AF770612011E561D30F2AF683            0x00  378566  7704340969   \n",
       "\n",
       "                                        Наименование  \\\n",
       "0        Дионикс ЛТД, Управляющая компания (УК), OOO   \n",
       "1        НАДЕЖНОСТЬ. КАЧЕСТВО. СТАБИЛЬНОСТЬ, УК, ООО   \n",
       "2  ОБЕРЕГ, Общественная организация противопожарн...   \n",
       "3                             Фреш Ритейл Групп, ООО   \n",
       "4                                   Бридж Групп, ООО   \n",
       "\n",
       "                                     ВидДеятельности ЮрФизЛицо  \\\n",
       "0  Управление эксплуатацией жилого фонда за возна...    ЮрЛицо   \n",
       "1  Управление недвижимым имуществом за вознагражд...    ЮрЛицо   \n",
       "2  Деятельность по обеспечению пожарной безопасности    ЮрЛицо   \n",
       "3  Консультирование по вопросам коммерческой деят...    ЮрЛицо   \n",
       "4  Деятельность по оказанию услуг в области бухга...    ЮрЛицо   \n",
       "\n",
       "  СистемаНалогообложения  ВыручкаОтПродаж КодОКВЭД  ... РегионОбслуживания  \\\n",
       "0               УСНО 15%         48687000      NaN  ...          Москва\\МО   \n",
       "1                   ОСНО         77621000      NaN  ...          Москва\\МО   \n",
       "2                УСНО 6%         81484000       69  ...          Москва\\МО   \n",
       "3               УСНО 15%         51550000    69.10  ...          Москва\\МО   \n",
       "4              ОСНО,УСНО        444402000    69.20  ...          Москва\\МО   \n",
       "\n",
       "        Статус                          Контрагент          ДатаЗаявки  \\\n",
       "0  Действующее  0x805B000E0C67527611DEC2C735886372 2020-10-12 10:20:50   \n",
       "1  Действующее  0x80C41866DAF62E0511E75B2BF1F2DFEE 2021-08-31 12:11:29   \n",
       "2  Действующее  0x80D8000AF770612011E55C4BA9493014 2023-07-14 12:12:46   \n",
       "3  Действующее  0x80D91866DAF62E0511E7A8F2C85B6095 2023-07-14 10:05:49   \n",
       "4  Действующее  0x80DA000AF770612011E561D30F2AF683 2020-11-05 14:24:47   \n",
       "\n",
       "  НомерЗаявки  Исполнитель  ТабельныйНомер  Подразделение  Результат_заявки  \\\n",
       "0      971792          NaN             NaN            NaN          В работе   \n",
       "1     1010597          NaN             NaN            NaN          В работе   \n",
       "2     1101558          NaN             NaN            NaN          В работе   \n",
       "3     1101509          NaN             NaN            NaN          В работе   \n",
       "4      975013          NaN             NaN            NaN          В работе   \n",
       "\n",
       "  КодОКВЭД_69  \n",
       "0         Нет  \n",
       "1         Нет  \n",
       "2          Да  \n",
       "3          Да  \n",
       "4          Да  \n",
       "\n",
       "[5 rows x 21 columns]"
      ]
     },
     "execution_count": 2,
     "metadata": {},
     "output_type": "execute_result"
    }
   ],
   "source": [
    "data=pd.read_excel(r'C:\\Users\\kerie\\Desktop\\Заявки в работе.xlsx')\n",
    "data.head()"
   ]
  },
  {
   "cell_type": "markdown",
   "id": "20c0d1d7",
   "metadata": {},
   "source": [
    "# Размер таблицы"
   ]
  },
  {
   "cell_type": "code",
   "execution_count": 4,
   "id": "4e781295",
   "metadata": {},
   "outputs": [
    {
     "data": {
      "text/plain": [
       "(794, 21)"
      ]
     },
     "execution_count": 4,
     "metadata": {},
     "output_type": "execute_result"
    }
   ],
   "source": [
    "data.shape"
   ]
  },
  {
   "cell_type": "markdown",
   "id": "b11ccad8",
   "metadata": {},
   "source": [
    "# Инормация о датасете, просмотр пустых строк¶"
   ]
  },
  {
   "cell_type": "code",
   "execution_count": 5,
   "id": "9d5d0ed5",
   "metadata": {},
   "outputs": [
    {
     "name": "stdout",
     "output_type": "stream",
     "text": [
      "<class 'pandas.core.frame.DataFrame'>\n",
      "RangeIndex: 794 entries, 0 to 793\n",
      "Data columns (total 21 columns):\n",
      " #   Column                  Non-Null Count  Dtype         \n",
      "---  ------                  --------------  -----         \n",
      " 0   Ссылка                  794 non-null    object        \n",
      " 1   ПометкаУдаления         794 non-null    object        \n",
      " 2   Код                     794 non-null    int64         \n",
      " 3   ИНН                     794 non-null    int64         \n",
      " 4   Наименование            794 non-null    object        \n",
      " 5   ВидДеятельности         507 non-null    object        \n",
      " 6   ЮрФизЛицо               794 non-null    object        \n",
      " 7   СистемаНалогообложения  794 non-null    object        \n",
      " 8   ВыручкаОтПродаж         794 non-null    int64         \n",
      " 9   КодОКВЭД                120 non-null    object        \n",
      " 10  Адрес                   792 non-null    object        \n",
      " 11  РегионОбслуживания      794 non-null    object        \n",
      " 12  Статус                  794 non-null    object        \n",
      " 13  Контрагент              794 non-null    object        \n",
      " 14  ДатаЗаявки              794 non-null    datetime64[ns]\n",
      " 15  НомерЗаявки             794 non-null    int64         \n",
      " 16  Исполнитель             0 non-null      float64       \n",
      " 17  ТабельныйНомер          0 non-null      float64       \n",
      " 18  Подразделение           0 non-null      float64       \n",
      " 19  Результат_заявки        794 non-null    object        \n",
      " 20  КодОКВЭД_69             794 non-null    object        \n",
      "dtypes: datetime64[ns](1), float64(3), int64(4), object(13)\n",
      "memory usage: 130.4+ KB\n"
     ]
    }
   ],
   "source": [
    "data.info()"
   ]
  },
  {
   "cell_type": "markdown",
   "id": "dcca4501",
   "metadata": {},
   "source": [
    "# Категорийные признаки заменяем на числовые переменные"
   ]
  },
  {
   "cell_type": "code",
   "execution_count": 6,
   "id": "997862b7",
   "metadata": {},
   "outputs": [],
   "source": [
    "sn=['Аутсорсинг','Бюджет','ЕНВД','ЕСХН','ОСНО','ОСНО,УСНО','Патент','УСНО 15%','УСНО 6%']\n",
    "def alert(row):\n",
    "    for i in range(0,9):\n",
    "         if row['СистемаНалогообложения']==sn[i]:\n",
    "                return i\n",
    "data['СистемаНалогообложения']=data.apply(alert, axis=1) \n",
    "\n",
    "ro=['Другой регион','Москва\\МО']\n",
    "def alert_r(row):\n",
    "    for i in range(0,2):\n",
    "         if row['РегионОбслуживания']==ro[i]:\n",
    "                return i\n",
    "data['РегионОбслуживания']=data.apply(alert_r, axis=1)\n",
    "\n",
    "st=['Действующее','Недействующие','Нет информации']\n",
    "def alert_s(row):\n",
    "    for i in range(0,3):\n",
    "         if row['Статус']==st[i]:\n",
    "                return i\n",
    "data['Статус']=data.apply(alert_s, axis=1)\n",
    "\n",
    "kod=['Да','Нет']\n",
    "def alert_с(row):\n",
    "    for i in range(0,2):\n",
    "         if row['КодОКВЭД_69']==kod[i]:\n",
    "                return i\n",
    "data['КодОКВЭД_69']=data.apply(alert_с, axis=1)\n"
   ]
  },
  {
   "cell_type": "markdown",
   "id": "36f5687c",
   "metadata": {},
   "source": [
    "# Загружаем данные в модель  CatBoostClassifier"
   ]
  },
  {
   "cell_type": "code",
   "execution_count": 7,
   "id": "0b1b2d1c",
   "metadata": {},
   "outputs": [],
   "source": [
    "from catboost import CatBoostClassifier\n",
    "from catboost import Pool\n",
    "from sklearn.model_selection import train_test_split\n",
    "from sklearn import metrics"
   ]
  },
  {
   "cell_type": "code",
   "execution_count": 8,
   "id": "e22558b7",
   "metadata": {},
   "outputs": [],
   "source": [
    "data.rename(columns={\"СистемаНалогообложения\":\"СистемаНалогообложения_int\",\n",
    "                              \"РегионОбслуживания\":\"РегионОбслуживания_int\",\n",
    "                              \"КодОКВЭД_69\":\"КодОКВЭД_69_int\",\n",
    "                              \"Статус\":\"Статус_int\"}, inplace = True) \n",
    "x=data[['СистемаНалогообложения_int','ВыручкаОтПродаж',\n",
    "        'РегионОбслуживания_int','Статус_int','КодОКВЭД_69_int']]"
   ]
  },
  {
   "cell_type": "code",
   "execution_count": 9,
   "id": "a4b7b56c",
   "metadata": {},
   "outputs": [],
   "source": [
    "loaded_model = CatBoostClassifier()\n",
    "loaded_model.load_model(\"Catboost_Model_K+.bin\")\n",
    "y_pred= loaded_model.predict(x)"
   ]
  },
  {
   "cell_type": "code",
   "execution_count": 10,
   "id": "38cecc80",
   "metadata": {},
   "outputs": [],
   "source": [
    "data['Модель Catboost']=y_pred"
   ]
  },
  {
   "cell_type": "markdown",
   "id": "df63a95c",
   "metadata": {},
   "source": [
    "# Загружаем данные в модель RandomForestClassifier"
   ]
  },
  {
   "cell_type": "code",
   "execution_count": 11,
   "id": "569f294d",
   "metadata": {},
   "outputs": [],
   "source": [
    "from sklearn.ensemble import RandomForestClassifier\n",
    "import pickle"
   ]
  },
  {
   "cell_type": "code",
   "execution_count": 12,
   "id": "87ef9862",
   "metadata": {},
   "outputs": [],
   "source": [
    "# Загрузка модели из файла\n",
    "with open('RFC_Model_K.pkl', 'rb') as file:\n",
    "    RFC_model = pickle.load(file)\n",
    "\n",
    "# Прогноз на сохраненной модели\n",
    "predictions_RFC = RFC_model.predict(x)"
   ]
  },
  {
   "cell_type": "code",
   "execution_count": 13,
   "id": "3c871341",
   "metadata": {},
   "outputs": [],
   "source": [
    "data['RandomForestClassifier']=predictions_RFC"
   ]
  },
  {
   "cell_type": "code",
   "execution_count": 14,
   "id": "e699514f",
   "metadata": {},
   "outputs": [],
   "source": [
    "data.to_excel('Result.xlsx')"
   ]
  },
  {
   "cell_type": "code",
   "execution_count": null,
   "id": "1dc70126",
   "metadata": {},
   "outputs": [],
   "source": []
  },
  {
   "cell_type": "code",
   "execution_count": null,
   "id": "6d578454",
   "metadata": {},
   "outputs": [],
   "source": []
  }
 ],
 "metadata": {
  "kernelspec": {
   "display_name": "Python 3 (ipykernel)",
   "language": "python",
   "name": "python3"
  },
  "language_info": {
   "codemirror_mode": {
    "name": "ipython",
    "version": 3
   },
   "file_extension": ".py",
   "mimetype": "text/x-python",
   "name": "python",
   "nbconvert_exporter": "python",
   "pygments_lexer": "ipython3",
   "version": "3.9.13"
  }
 },
 "nbformat": 4,
 "nbformat_minor": 5
}
